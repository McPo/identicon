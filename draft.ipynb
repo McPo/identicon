{
 "cells": [
  {
   "cell_type": "code",
   "execution_count": 1,
   "metadata": {},
   "outputs": [],
   "source": [
    "import hashlib"
   ]
  },
  {
   "cell_type": "code",
   "execution_count": 2,
   "metadata": {},
   "outputs": [],
   "source": [
    "h = hashlib.md5()"
   ]
  },
  {
   "cell_type": "code",
   "execution_count": 3,
   "metadata": {},
   "outputs": [],
   "source": [
    "h.update('flavono@gmail.com'.encode('utf8'))"
   ]
  },
  {
   "cell_type": "code",
   "execution_count": 4,
   "metadata": {},
   "outputs": [],
   "source": [
    "hex_list = h.hexdigest()"
   ]
  },
  {
   "cell_type": "code",
   "execution_count": 5,
   "metadata": {},
   "outputs": [
    {
     "data": {
      "text/plain": [
       "'6da58fcde9d92018785328e8cddaf199'"
      ]
     },
     "execution_count": 5,
     "metadata": {},
     "output_type": "execute_result"
    }
   ],
   "source": [
    "hex_list"
   ]
  },
  {
   "cell_type": "code",
   "execution_count": 6,
   "metadata": {},
   "outputs": [],
   "source": [
    "r,g,b =[hex_list[i:i+2]for i in range(0, 6, 2)]"
   ]
  },
  {
   "cell_type": "markdown",
   "metadata": {},
   "source": [
    "## Get Color"
   ]
  },
  {
   "cell_type": "code",
   "execution_count": 7,
   "metadata": {},
   "outputs": [],
   "source": [
    "from PIL import Image, ImageDraw"
   ]
  },
  {
   "cell_type": "code",
   "execution_count": 74,
   "metadata": {},
   "outputs": [],
   "source": [
    "color = f'#{r}{g}{b}'"
   ]
  },
  {
   "cell_type": "code",
   "execution_count": 75,
   "metadata": {},
   "outputs": [
    {
     "data": {
      "image/png": "[encoded data removed]",
      "text/plain": [
       "<PIL.Image.Image image mode=RGB size=50x50 at 0x106AFF588>"
      ]
     },
     "execution_count": 75,
     "metadata": {},
     "output_type": "execute_result"
    }
   ],
   "source": [
    "Image.new('RGB', (50, 50), f'#{r}{g}{b}')"
   ]
  },
  {
   "cell_type": "markdown",
   "metadata": {},
   "source": [
    "## Make symmetric gird(5x5)"
   ]
  },
  {
   "cell_type": "code",
   "execution_count": 9,
   "metadata": {},
   "outputs": [],
   "source": [
    "hex_list_15 = hex_list[2:]"
   ]
  },
  {
   "cell_type": "code",
   "execution_count": 10,
   "metadata": {},
   "outputs": [
    {
     "data": {
      "text/plain": [
       "'a58fcde9d92018785328e8cddaf199'"
      ]
     },
     "execution_count": 10,
     "metadata": {},
     "output_type": "execute_result"
    }
   ],
   "source": [
    "hex_list_15"
   ]
  },
  {
   "cell_type": "code",
   "execution_count": 11,
   "metadata": {},
   "outputs": [],
   "source": [
    "rows = [[hex_list_15[i:i+2]for i in range(j, j+3*2, 2)] for j in range(0, 5*6, 6)]"
   ]
  },
  {
   "cell_type": "code",
   "execution_count": 12,
   "metadata": {},
   "outputs": [
    {
     "data": {
      "text/plain": [
       "[['a5', '8f', 'cd'],\n",
       " ['e9', 'd9', '20'],\n",
       " ['18', '78', '53'],\n",
       " ['28', 'e8', 'cd'],\n",
       " ['da', 'f1', '99']]"
      ]
     },
     "execution_count": 12,
     "metadata": {},
     "output_type": "execute_result"
    }
   ],
   "source": [
    "rows"
   ]
  },
  {
   "cell_type": "code",
   "execution_count": 13,
   "metadata": {},
   "outputs": [],
   "source": [
    "revsered_rows = [list(reversed(row)) for row in rows]"
   ]
  },
  {
   "cell_type": "code",
   "execution_count": 14,
   "metadata": {},
   "outputs": [
    {
     "data": {
      "text/plain": [
       "[None, None, None, None, None]"
      ]
     },
     "execution_count": 14,
     "metadata": {},
     "output_type": "execute_result"
    }
   ],
   "source": [
    "[row.extend(reversed_row[1:])for row, reversed_row in zip(rows, revsered_rows)]"
   ]
  },
  {
   "cell_type": "code",
   "execution_count": 35,
   "metadata": {},
   "outputs": [],
   "source": [
    "integer_grid = [list(map(lambda e: int(e ,base=16), row)) for row in rows]"
   ]
  },
  {
   "cell_type": "code",
   "execution_count": 58,
   "metadata": {},
   "outputs": [],
   "source": [
    "integer_filtered = [[i if i%2==0 else 0 for i in integer_row] for integer_row in integer_grid]"
   ]
  },
  {
   "cell_type": "code",
   "execution_count": 47,
   "metadata": {},
   "outputs": [
    {
     "data": {
      "text/plain": [
       "[165, 143, 205, 143, 165]"
      ]
     },
     "execution_count": 47,
     "metadata": {},
     "output_type": "execute_result"
    }
   ],
   "source": [
    "integer_grid[0]"
   ]
  },
  {
   "cell_type": "markdown",
   "metadata": {},
   "source": [
    "## Flatten(timing should be ealrier in real code)"
   ]
  },
  {
   "cell_type": "code",
   "execution_count": 60,
   "metadata": {},
   "outputs": [],
   "source": [
    "flatten_grid = [e for row in integer_filtered for e in row]"
   ]
  },
  {
   "cell_type": "code",
   "execution_count": 100,
   "metadata": {},
   "outputs": [],
   "source": [
    "pixels = []\n",
    "for i, val in enumerate(flatten_grid):\n",
    "    x = int(i%5 * 50)\n",
    "    y = int(i//5 * 50)\n",
    "    \n",
    "    top_left = (x, y)\n",
    "    bottom_right = (x + 50, y + 50)\n",
    "    \n",
    "    pixels.append([top_left, bottom_right])"
   ]
  },
  {
   "cell_type": "code",
   "execution_count": 101,
   "metadata": {},
   "outputs": [],
   "source": [
    "im = Image.new('RGB', (250, 250), 'white')\n",
    "draw = ImageDraw.Draw(im)\n",
    "for grid, pixel in zip(flatten_grid, pixels):\n",
    "    if grid: # not zero\n",
    "        draw.rectangle(pixel, fill=color)"
   ]
  },
  {
   "cell_type": "markdown",
   "metadata": {},
   "source": [
    "to debug"
   ]
  },
  {
   "cell_type": "code",
   "execution_count": 102,
   "metadata": {},
   "outputs": [
    {
     "data": {
      "text/plain": [
       "[[0, 0, 0, 0, 0],\n",
       " [0, 0, 32, 0, 0],\n",
       " [24, 120, 0, 120, 24],\n",
       " [40, 232, 0, 232, 40],\n",
       " [218, 0, 0, 0, 218]]"
      ]
     },
     "execution_count": 102,
     "metadata": {},
     "output_type": "execute_result"
    }
   ],
   "source": [
    "integer_filtered"
   ]
  },
  {
   "cell_type": "code",
   "execution_count": 103,
   "metadata": {},
   "outputs": [
    {
     "data": {
      "text/plain": [
       "[[(0, 0), (50, 50)],\n",
       " [(50, 0), (100, 50)],\n",
       " [(100, 0), (150, 50)],\n",
       " [(150, 0), (200, 50)],\n",
       " [(200, 0), (250, 50)],\n",
       " [(0, 50), (50, 100)],\n",
       " [(50, 50), (100, 100)],\n",
       " [(100, 50), (150, 100)],\n",
       " [(150, 50), (200, 100)],\n",
       " [(200, 50), (250, 100)],\n",
       " [(0, 100), (50, 150)],\n",
       " [(50, 100), (100, 150)],\n",
       " [(100, 100), (150, 150)],\n",
       " [(150, 100), (200, 150)],\n",
       " [(200, 100), (250, 150)],\n",
       " [(0, 150), (50, 200)],\n",
       " [(50, 150), (100, 200)],\n",
       " [(100, 150), (150, 200)],\n",
       " [(150, 150), (200, 200)],\n",
       " [(200, 150), (250, 200)],\n",
       " [(0, 200), (50, 250)],\n",
       " [(50, 200), (100, 250)],\n",
       " [(100, 200), (150, 250)],\n",
       " [(150, 200), (200, 250)],\n",
       " [(200, 200), (250, 250)]]"
      ]
     },
     "execution_count": 103,
     "metadata": {},
     "output_type": "execute_result"
    }
   ],
   "source": [
    "pixels"
   ]
  },
  {
   "cell_type": "code",
   "execution_count": 104,
   "metadata": {},
   "outputs": [
    {
     "data": {
      "image/png": "[encoded data removed]",
      "text/plain": [
       "<PIL.Image.Image image mode=RGB size=250x250 at 0x106B1DB00>"
      ]
     },
     "execution_count": 104,
     "metadata": {},
     "output_type": "execute_result"
    }
   ],
   "source": [
    "im"
   ]
  },
  {
   "cell_type": "code",
   "execution_count": null,
   "metadata": {},
   "outputs": [],
   "source": []
  },
  {
   "cell_type": "code",
   "execution_count": null,
   "metadata": {},
   "outputs": [],
   "source": []
  }
 ],
 "metadata": {
  "kernelspec": {
   "display_name": "Python 3",
   "language": "python",
   "name": "python3"
  },
  "language_info": {
   "codemirror_mode": {
    "name": "ipython",
    "version": 3
   },
   "file_extension": ".py",
   "mimetype": "text/x-python",
   "name": "python",
   "nbconvert_exporter": "python",
   "pygments_lexer": "ipython3",
   "version": "3.6.3"
  }
 },
 "nbformat": 4,
 "nbformat_minor": 2
}
